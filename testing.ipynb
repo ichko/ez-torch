{
 "cells": [
  {
   "cell_type": "code",
   "execution_count": 13,
   "id": "1dbf80a4",
   "metadata": {},
   "outputs": [
    {
     "name": "stdout",
     "output_type": "stream",
     "text": [
      "The autoreload extension is already loaded. To reload it, use:\n",
      "  %reload_ext autoreload\n"
     ]
    }
   ],
   "source": [
    "%load_ext autoreload\n",
    "%autoreload 2"
   ]
  },
  {
   "cell_type": "code",
   "execution_count": 14,
   "id": "70baf3a6",
   "metadata": {},
   "outputs": [],
   "source": [
    "import ipywidgets as w\n",
    "from IPython.display import clear_output, display\n",
    "import matplotlib.pyplot as plt\n",
    "import numpy as np"
   ]
  },
  {
   "cell_type": "code",
   "execution_count": 15,
   "id": "b381bb47",
   "metadata": {},
   "outputs": [],
   "source": [
    "import ez_torch as ez\n",
    "from ez_torch.ui import make\n",
    "import torch.nn as nn\n",
    "from ez_torch.modules import Module, SpatialUVOffsetTransformer\n",
    "import torch\n",
    "\n",
    "from threading import Thread"
   ]
  },
  {
   "cell_type": "code",
   "execution_count": 16,
   "id": "12f8d9fd",
   "metadata": {},
   "outputs": [],
   "source": [
    "class Model(Module):\n",
    "    def __init__(self):\n",
    "        super().__init__()\n",
    "        self.net = nn.Sequential(\n",
    "            nn.Flatten(),\n",
    "            nn.Linear(28 * 28, 100),\n",
    "            nn.ReLU(),\n",
    "            nn.Linear(100, 100),\n",
    "            nn.ReLU(),\n",
    "            nn.Linear(100, 10),\n",
    "        )\n",
    "\n",
    "        self.criterion = nn.CrossEntropyLoss()\n",
    "\n",
    "    def forward(self, x):\n",
    "        return self.net(x)\n",
    "    \n",
    "    def configure_optimizers(self):\n",
    "        return torch.optim.Adam(self.parameters(), lr=0.001)\n",
    "    \n",
    "    def training_step(self, batch):\n",
    "        optim = self.optimizers()\n",
    "\n",
    "        x, y = batch\n",
    "        y_pred = self(x)\n",
    "        loss = self.criterion(y_pred, y)\n",
    "        \n",
    "        optim.zero_grad()\n",
    "        loss.backward()\n",
    "        optim.step()\n",
    "        \n",
    "        return loss.item()"
   ]
  },
  {
   "cell_type": "code",
   "execution_count": 17,
   "id": "f6cdd45b",
   "metadata": {},
   "outputs": [],
   "source": [
    "train, test = ez.data.get_mnist_dl(bs_train=32, bs_test=32, shuffle=True)"
   ]
  },
  {
   "cell_type": "code",
   "execution_count": 18,
   "id": "9c5abac2",
   "metadata": {},
   "outputs": [],
   "source": [
    "model = Model()"
   ]
  },
  {
   "cell_type": "code",
   "execution_count": 19,
   "id": "d41501f9",
   "metadata": {
    "scrolled": false
   },
   "outputs": [
    {
     "data": {
      "application/vnd.jupyter.widget-view+json": {
       "model_id": "ecf58c8ed1b54d158c58853eb3a7f11a",
       "version_major": 2,
       "version_minor": 0
      },
      "text/plain": [
       "VBox(children=(HBox(children=(VBox(children=(Label(value='LR'), FloatSlider(value=0.001, layout=Layout(width='…"
      ]
     },
     "metadata": {},
     "output_type": "display_data"
    }
   ],
   "source": [
    "ez.ui.for_training(model, dataloader=train, in_background=True, its=1000)"
   ]
  },
  {
   "cell_type": "code",
   "execution_count": 20,
   "id": "cbd6770e",
   "metadata": {},
   "outputs": [],
   "source": [
    "from ez_torch.ui import make as ui\n",
    "view = ui.v(\n",
    "    ui.checkbox('running', description='Stop'),\n",
    "    ui.output('area')\n",
    ")"
   ]
  },
  {
   "cell_type": "code",
   "execution_count": 21,
   "id": "7f79f4a6",
   "metadata": {},
   "outputs": [],
   "source": [
    "import time"
   ]
  },
  {
   "cell_type": "code",
   "execution_count": 22,
   "id": "f3bceb78",
   "metadata": {},
   "outputs": [
    {
     "data": {
      "application/vnd.jupyter.widget-view+json": {
       "model_id": "4f296f7c55cd419d9961869520cdb94b",
       "version_major": 2,
       "version_minor": 0
      },
      "text/plain": [
       "VBox(children=(Checkbox(value=False, description='Stop'), Output()))"
      ]
     },
     "metadata": {},
     "output_type": "display_data"
    }
   ],
   "source": [
    "def run():\n",
    "    i = 0\n",
    "    while view.running.value:\n",
    "        time.sleep(0.01)\n",
    "        i += 1\n",
    "        with view.area:\n",
    "            print(i)\n",
    "\n",
    "t = Thread(target=run)\n",
    "t.start()\n",
    "\n",
    "view"
   ]
  },
  {
   "cell_type": "code",
   "execution_count": 23,
   "id": "2529fdf4",
   "metadata": {},
   "outputs": [],
   "source": [
    "from ez_torch.ui import make as ui"
   ]
  },
  {
   "cell_type": "code",
   "execution_count": 24,
   "id": "481c1d26",
   "metadata": {
    "scrolled": false
   },
   "outputs": [
    {
     "data": {
      "application/vnd.jupyter.widget-view+json": {
       "model_id": "063334d0e9d4438aa6d36d3e00f86a27",
       "version_major": 2,
       "version_minor": 0
      },
      "text/plain": [
       "VBox(children=(HBox(children=(VBox(children=(Label(value='LR'), FloatSlider(value=0.001, layout=Layout(width='…"
      ]
     },
     "metadata": {},
     "output_type": "display_data"
    }
   ],
   "source": [
    "view = ui.v(\n",
    "    ui.h(\n",
    "        ui.v(\n",
    "            ui.label(value='LR'),\n",
    "            ui.slider('lr', min=0.001, max=1, layout={'width': 'auto'}),\n",
    "            ui.label(value='ITS'),\n",
    "            ui.int('its', min=1, max=1000, default=100, layout={'width': 'auto'}),\n",
    "            layout=w.Layout(**{'width': '25%', 'border': '2px solid #ccc'}),\n",
    "        ),\n",
    "        ui.v(\n",
    "            ui.h(\n",
    "                ui.progress('progress', description='IT [000:000]'),\n",
    "                ui.button('start', description='Start'),\n",
    "                ui.button('reset', description='Restart'),\n",
    "            ),\n",
    "            ui.line('loss', title='Loss', layout={'height': '350px'}),\n",
    "            layout={'width': '100%', 'border': '2px solid #ccc'},\n",
    "        ),\n",
    "        layout={'border': '2px solid #ccc'},\n",
    "    ),\n",
    "    ui.output('out'),\n",
    "    layout={'border': '4px solid #e6e6e6', 'paddnig': '10px'},\n",
    ")\n",
    "\n",
    "view"
   ]
  },
  {
   "cell_type": "code",
   "execution_count": 25,
   "id": "f83109f3",
   "metadata": {},
   "outputs": [],
   "source": [
    "row = ui.h(ui.output('left'), ui.output('right'))\n",
    "view.out.display(row)"
   ]
  },
  {
   "cell_type": "code",
   "execution_count": 26,
   "id": "891578c5",
   "metadata": {},
   "outputs": [],
   "source": [
    "import threading\n",
    "\n",
    "def run():\n",
    "    n = 10\n",
    "    y = np.random.rand(n)\n",
    "    for i in range(1, n):\n",
    "\n",
    "        view.loss.plot(y[:i])\n",
    "        with row.left:\n",
    "            row.left.clear()\n",
    "            plt.imshow(np.random.rand(10, 10))\n",
    "            plt.show()\n",
    "        with row.right:\n",
    "            row.left.clear()\n",
    "            plt.imshow(np.random.rand(10, 10))\n",
    "            plt.show()"
   ]
  },
  {
   "cell_type": "code",
   "execution_count": 28,
   "id": "8585cdf5",
   "metadata": {},
   "outputs": [],
   "source": [
    "# t = threading.Thread(target=run)\n",
    "# t.start()\n",
    "run()"
   ]
  },
  {
   "cell_type": "markdown",
   "id": "75b74b29",
   "metadata": {},
   "source": [
    "---"
   ]
  },
  {
   "cell_type": "code",
   "execution_count": 1,
   "id": "cc0c425c",
   "metadata": {},
   "outputs": [],
   "source": [
    "%load_ext autoreload\n",
    "%autoreload 2"
   ]
  },
  {
   "cell_type": "code",
   "execution_count": 2,
   "id": "e840ecee",
   "metadata": {},
   "outputs": [],
   "source": [
    "import ez_torch.ui as ui\n",
    "import numpy as np\n",
    "import matplotlib.pyplot as plt\n",
    "import time"
   ]
  },
  {
   "cell_type": "code",
   "execution_count": 3,
   "id": "20be0fa3",
   "metadata": {},
   "outputs": [],
   "source": [
    "def experiment(display):\n",
    "    for i in np.linspace(0, 1, 100):\n",
    "        yield i\n",
    "        with display:\n",
    "#             display.clear()\n",
    "            A = np.random.rand(10, 10)\n",
    "            plt.imshow(A)\n",
    "            plt.show(block=True)"
   ]
  },
  {
   "cell_type": "code",
   "execution_count": 4,
   "id": "212f38c4",
   "metadata": {
    "scrolled": false
   },
   "outputs": [
    {
     "data": {
      "application/vnd.jupyter.widget-view+json": {
       "model_id": "d1af78bb3839411ebcd95e033cc2f5bc",
       "version_major": 2,
       "version_minor": 0
      },
      "text/plain": [
       "VBox(children=(HBox(children=(FloatProgress(value=0.0, max=1.0), Button(description='Start', style=ButtonStyle…"
      ]
     },
     "metadata": {},
     "output_type": "display_data"
    }
   ],
   "source": [
    "view = ui.for_generator(experiment)\n",
    "view"
   ]
  },
  {
   "cell_type": "code",
   "execution_count": 9,
   "id": "9430b202",
   "metadata": {},
   "outputs": [],
   "source": [
    "from IPython.display import display, clear_output\n",
    "with view.out:\n",
    "    clear_output(wait=True)\n",
    "    display()"
   ]
  },
  {
   "cell_type": "code",
   "execution_count": 10,
   "id": "9ab639f9",
   "metadata": {},
   "outputs": [
    {
     "data": {
      "application/vnd.jupyter.widget-view+json": {
       "model_id": "756da9dd71b148e79a1d6577fce6767b",
       "version_major": 2,
       "version_minor": 0
      },
      "text/plain": [
       "Output()"
      ]
     },
     "metadata": {},
     "output_type": "display_data"
    }
   ],
   "source": [
    "view.out"
   ]
  },
  {
   "cell_type": "code",
   "execution_count": null,
   "id": "31b4c7dc",
   "metadata": {},
   "outputs": [],
   "source": []
  },
  {
   "cell_type": "code",
   "execution_count": null,
   "id": "d9b0b987",
   "metadata": {},
   "outputs": [],
   "source": []
  },
  {
   "cell_type": "code",
   "execution_count": null,
   "id": "39c44afc",
   "metadata": {},
   "outputs": [],
   "source": []
  },
  {
   "cell_type": "code",
   "execution_count": null,
   "id": "d9731b36",
   "metadata": {},
   "outputs": [],
   "source": []
  },
  {
   "cell_type": "code",
   "execution_count": null,
   "id": "6f7d50d4",
   "metadata": {},
   "outputs": [],
   "source": []
  },
  {
   "cell_type": "code",
   "execution_count": null,
   "id": "b145d164",
   "metadata": {},
   "outputs": [],
   "source": []
  },
  {
   "cell_type": "code",
   "execution_count": null,
   "id": "f94ded23",
   "metadata": {},
   "outputs": [],
   "source": []
  },
  {
   "cell_type": "code",
   "execution_count": null,
   "id": "bd75a55b",
   "metadata": {},
   "outputs": [],
   "source": []
  },
  {
   "cell_type": "code",
   "execution_count": null,
   "id": "6b891efa",
   "metadata": {},
   "outputs": [],
   "source": []
  },
  {
   "cell_type": "code",
   "execution_count": null,
   "id": "d0d1146e",
   "metadata": {},
   "outputs": [],
   "source": []
  },
  {
   "cell_type": "code",
   "execution_count": null,
   "id": "a8175904",
   "metadata": {},
   "outputs": [],
   "source": []
  },
  {
   "cell_type": "code",
   "execution_count": null,
   "id": "e7b89407",
   "metadata": {},
   "outputs": [],
   "source": []
  }
 ],
 "metadata": {
  "interpreter": {
   "hash": "51476f6c1e7b55c6f4c750d1e079cb775eb97e6aabd5231bded5b7c36315272d"
  },
  "kernelspec": {
   "display_name": "Python 3",
   "language": "python",
   "name": "python3"
  },
  "language_info": {
   "codemirror_mode": {
    "name": "ipython",
    "version": 3
   },
   "file_extension": ".py",
   "mimetype": "text/x-python",
   "name": "python",
   "nbconvert_exporter": "python",
   "pygments_lexer": "ipython3",
   "version": "3.7.5"
  },
  "toc": {
   "base_numbering": 1,
   "nav_menu": {},
   "number_sections": true,
   "sideBar": true,
   "skip_h1_title": false,
   "title_cell": "Table of Contents",
   "title_sidebar": "Contents",
   "toc_cell": false,
   "toc_position": {},
   "toc_section_display": true,
   "toc_window_display": false
  }
 },
 "nbformat": 4,
 "nbformat_minor": 5
}
