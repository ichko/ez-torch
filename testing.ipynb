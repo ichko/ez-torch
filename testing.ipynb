{
 "cells": [
  {
   "cell_type": "code",
   "execution_count": 1,
   "id": "9a5e6a4c",
   "metadata": {},
   "outputs": [],
   "source": [
    "%load_ext autoreload\n",
    "%autoreload 2"
   ]
  },
  {
   "cell_type": "code",
   "execution_count": 119,
   "id": "e9b59aff",
   "metadata": {},
   "outputs": [],
   "source": [
    "import ipywidgets as w\n",
    "from IPython.display import clear_output, display\n",
    "import matplotlib.pyplot as plt"
   ]
  },
  {
   "cell_type": "code",
   "execution_count": 3,
   "id": "2a6f7d62",
   "metadata": {},
   "outputs": [],
   "source": [
    "import ez_torch as ez\n",
    "import torch.nn as nn\n",
    "import torchvision\n",
    "from ez_torch.modules import Module, SpatialUVOffsetTransformer"
   ]
  },
  {
   "cell_type": "code",
   "execution_count": 4,
   "id": "819e6c41",
   "metadata": {},
   "outputs": [],
   "source": [
    "class Model(Module):\n",
    "    def __init__(self):\n",
    "        super().__init__()\n",
    "        self.feature_model = nn.Sequential(\n",
    "            torchvision.models.resnet18(\n",
    "                pretrained=False,\n",
    "                progress=False,\n",
    "                num_classes=32,\n",
    "            ),\n",
    "            nn.ReLU(),\n",
    "        )\n",
    "        # self.feature_model = nn.Sequential(\n",
    "        #     nn.Flatten(),\n",
    "        #     nn.Linear(28 * 28, 32),\n",
    "        #     nn.ReLU(),\n",
    "        # )\n",
    "        self.transform = SpatialUVOffsetTransformer(\n",
    "            32,\n",
    "            uv_resolution_shape=(10, 10),\n",
    "        )\n",
    "\n",
    "    def criterion(self, y, y_target):\n",
    "        return F.binary_cross_entropy(y, y_target)\n",
    "\n",
    "    def forward(self, x):\n",
    "        x_3d = x.repeat([1, 3, 1, 1])\n",
    "        X_features = self.feature_model(x_3d)\n",
    "        X_transformed = self.transform([X_features, x])\n",
    "        return X_transformed"
   ]
  },
  {
   "cell_type": "code",
   "execution_count": 11,
   "id": "89e6796a",
   "metadata": {
    "scrolled": false
   },
   "outputs": [
    {
     "data": {
      "application/vnd.jupyter.widget-view+json": {
       "model_id": "d55e11f32666470d8eb5025bf14497f9",
       "version_major": 2,
       "version_minor": 0
      },
      "text/plain": [
       "TrainableUI()"
      ]
     },
     "metadata": {},
     "output_type": "display_data"
    }
   ],
   "source": [
    "Model().ui"
   ]
  },
  {
   "cell_type": "code",
   "execution_count": 116,
   "id": "d7dd7c71",
   "metadata": {},
   "outputs": [
    {
     "data": {
      "application/vnd.jupyter.widget-view+json": {
       "model_id": "27dbf863239744b2af359fead60d89ff",
       "version_major": 2,
       "version_minor": 0
      },
      "text/plain": [
       "Output()"
      ]
     },
     "metadata": {},
     "output_type": "display_data"
    }
   ],
   "source": [
    "out = w.Output()\n",
    "out"
   ]
  },
  {
   "cell_type": "code",
   "execution_count": 170,
   "id": "a2b52d5c",
   "metadata": {},
   "outputs": [],
   "source": [
    "for i in range(100):\n",
    "    z = 2"
   ]
  },
  {
   "cell_type": "code",
   "execution_count": 204,
   "id": "4a4ac5b8",
   "metadata": {},
   "outputs": [
    {
     "data": {
      "application/vnd.jupyter.widget-view+json": {
       "model_id": "09839dbb8ca048a784aeda2ff15af1e2",
       "version_major": 2,
       "version_minor": 0
      },
      "text/plain": [
       "Figure(axes=[Axis(label='Test X', scale=LinearScale(max=6.283185307179586, min=0.0), tick_format='0.0f'), Axis…"
      ]
     },
     "metadata": {},
     "output_type": "display_data"
    }
   ],
   "source": [
    "import bqplot as bq\n",
    "from IPython.display import display\n",
    "\n",
    "x_sc = bq.LinearScale(min=0, max=2 * np.pi)\n",
    "y_sc = bq.LinearScale(min=-1, max=1)\n",
    "\n",
    "ax_x = bq.Axis(label='Test X', scale=x_sc, tick_format='0.0f')\n",
    "ax_y = bq.Axis(label='Test Y', scale=y_sc,\n",
    "               orientation='vertical', tick_format='0.2f')\n",
    "\n",
    "line = bq.Scatter(x=[0], y=[0], scales={'x': x_sc, 'y': y_sc}, colors=['red', 'yellow'])\n",
    "\n",
    "fig = bq.Figure(axes=[ax_x, ax_y], marks=[line])\n",
    "\n",
    "display(fig)"
   ]
  },
  {
   "cell_type": "code",
   "execution_count": 205,
   "id": "478f6156",
   "metadata": {},
   "outputs": [],
   "source": [
    "# fig.layout.width = '300px'\n",
    "fig.title = 'Test title'"
   ]
  },
  {
   "cell_type": "code",
   "execution_count": 207,
   "id": "fd0f5916",
   "metadata": {},
   "outputs": [],
   "source": [
    "import time\n",
    "for i in range(100):\n",
    "    x = np.linspace(0, (i + 1) / 100 * np.pi*2, 100)\n",
    "    y = np.sin(x)\n",
    "    line.x = x\n",
    "    line.y = y\n",
    "    time.sleep(0.01)"
   ]
  },
  {
   "cell_type": "code",
   "execution_count": null,
   "id": "cb8e8543",
   "metadata": {},
   "outputs": [],
   "source": []
  },
  {
   "cell_type": "code",
   "execution_count": null,
   "id": "db5e29ad",
   "metadata": {},
   "outputs": [],
   "source": []
  }
 ],
 "metadata": {
  "kernelspec": {
   "display_name": "Python 3",
   "language": "python",
   "name": "python3"
  },
  "language_info": {
   "codemirror_mode": {
    "name": "ipython",
    "version": 3
   },
   "file_extension": ".py",
   "mimetype": "text/x-python",
   "name": "python",
   "nbconvert_exporter": "python",
   "pygments_lexer": "ipython3",
   "version": "3.7.6"
  }
 },
 "nbformat": 4,
 "nbformat_minor": 5
}
