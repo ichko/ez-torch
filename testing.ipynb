{
 "cells": [
  {
   "cell_type": "code",
   "execution_count": 1,
   "id": "1dbf80a4",
   "metadata": {},
   "outputs": [],
   "source": [
    "%load_ext autoreload\n",
    "%autoreload 2"
   ]
  },
  {
   "cell_type": "code",
   "execution_count": 2,
   "id": "70baf3a6",
   "metadata": {},
   "outputs": [],
   "source": [
    "import ipywidgets as w\n",
    "from IPython.display import clear_output, display\n",
    "import matplotlib.pyplot as plt\n",
    "import numpy as np"
   ]
  },
  {
   "cell_type": "code",
   "execution_count": 3,
   "id": "b381bb47",
   "metadata": {},
   "outputs": [],
   "source": [
    "import ez_torch as ez\n",
    "import torch.nn as nn\n",
    "import torchvision\n",
    "from ez_torch.modules import Module, SpatialUVOffsetTransformer"
   ]
  },
  {
   "cell_type": "code",
   "execution_count": 5,
   "id": "12f8d9fd",
   "metadata": {},
   "outputs": [],
   "source": [
    "class Model(Module):\n",
    "    def __init__(self):\n",
    "        super().__init__()\n",
    "        self.feature_model = nn.Sequential(\n",
    "            torchvision.models.resnet18(\n",
    "                pretrained=False,\n",
    "                progress=False,\n",
    "                num_classes=32,\n",
    "            ),\n",
    "            nn.ReLU(),\n",
    "        )\n",
    "        self.transform = SpatialUVOffsetTransformer(\n",
    "            32,\n",
    "            uv_resolution_shape=(10, 10),\n",
    "        )\n",
    "\n",
    "    def criterion(self, y, y_target):\n",
    "        return F.binary_cross_entropy(y, y_target)\n",
    "\n",
    "    def forward(self, x):\n",
    "        x_3d = x.repeat([1, 3, 1, 1])\n",
    "        X_features = self.feature_model(x_3d)\n",
    "        X_transformed = self.transform([X_features, x])\n",
    "        return X_transformed\n",
    "    \n",
    "    def training_step(self, batch):\n",
    "        pass"
   ]
  },
  {
   "cell_type": "code",
   "execution_count": 6,
   "id": "9c5abac2",
   "metadata": {},
   "outputs": [
    {
     "data": {
      "application/vnd.jupyter.widget-view+json": {
       "model_id": "b332f48e3e5c4d1e9b02991102a61c36",
       "version_major": 2,
       "version_minor": 0
      },
      "text/plain": [
       "TrainableUI()"
      ]
     },
     "metadata": {},
     "output_type": "display_data"
    }
   ],
   "source": [
    "Model().ui"
   ]
  },
  {
   "cell_type": "code",
   "execution_count": 7,
   "id": "2529fdf4",
   "metadata": {},
   "outputs": [],
   "source": [
    "from ez_torch.ui import ui"
   ]
  },
  {
   "cell_type": "code",
   "execution_count": 8,
   "id": "481c1d26",
   "metadata": {
    "scrolled": false
   },
   "outputs": [
    {
     "data": {
      "application/vnd.jupyter.widget-view+json": {
       "model_id": "3da0f189ce9f49ab8284cee62ee7f341",
       "version_major": 2,
       "version_minor": 0
      },
      "text/plain": [
       "VBox(children=(HBox(children=(VBox(children=(Label(value='LR'), FloatSlider(value=0.001, layout=Layout(width='…"
      ]
     },
     "metadata": {},
     "output_type": "display_data"
    }
   ],
   "source": [
    "view = ui.v(\n",
    "    ui.h(\n",
    "        ui.v(\n",
    "            ui.label(value='LR'),\n",
    "            ui.slider('lr', min=0.001, max=1, layout={'width': 'auto'}),\n",
    "            ui.label(value='ITS'),\n",
    "            ui.int('its', min=1, max=1000, default=100, layout={'width': 'auto'}),\n",
    "            layout=w.Layout(**{'width': '25%', 'border': '2px solid #ccc'}),\n",
    "        ),\n",
    "        ui.v(\n",
    "            ui.h(\n",
    "                ui.progress('progress', description='IT [000:000]'),\n",
    "                ui.button('start', description='Start'),\n",
    "                ui.button('reset', description='Restart'),\n",
    "            ),\n",
    "            ui.line('loss', title='Loss', layout={'height': '350px'}),\n",
    "            layout={'width': '100%', 'border': '2px solid #ccc'},\n",
    "        ),\n",
    "        layout={'border': '2px solid #ccc'},\n",
    "    ),\n",
    "    ui.output('out'),\n",
    "    layout={'border': '4px solid #e6e6e6', 'paddnig': '10px'},\n",
    ")\n",
    "\n",
    "view"
   ]
  },
  {
   "cell_type": "code",
   "execution_count": 9,
   "id": "f83109f3",
   "metadata": {},
   "outputs": [],
   "source": [
    "row = ui.h(ui.output('left'), ui.output('right'))\n",
    "view.out.display(row)"
   ]
  },
  {
   "cell_type": "code",
   "execution_count": 10,
   "id": "891578c5",
   "metadata": {},
   "outputs": [],
   "source": [
    "n = 100\n",
    "y = np.random.rand(n)\n",
    "for i in range(1, n):\n",
    "\n",
    "    view.loss.plot(y[:i])\n",
    "    with row.left:\n",
    "        plt.imshow(np.random.rand(10, 10))\n",
    "        plt.show()\n",
    "    with row.right:\n",
    "        plt.imshow(np.random.rand(10, 10))\n",
    "        plt.show()"
   ]
  },
  {
   "cell_type": "code",
   "execution_count": null,
   "id": "1aeeb3d3",
   "metadata": {},
   "outputs": [],
   "source": []
  },
  {
   "cell_type": "code",
   "execution_count": null,
   "id": "e840ecee",
   "metadata": {},
   "outputs": [],
   "source": []
  },
  {
   "cell_type": "code",
   "execution_count": null,
   "id": "31b4c7dc",
   "metadata": {},
   "outputs": [],
   "source": []
  },
  {
   "cell_type": "code",
   "execution_count": null,
   "id": "d9b0b987",
   "metadata": {},
   "outputs": [],
   "source": []
  },
  {
   "cell_type": "code",
   "execution_count": null,
   "id": "39c44afc",
   "metadata": {},
   "outputs": [],
   "source": []
  },
  {
   "cell_type": "code",
   "execution_count": null,
   "id": "d9731b36",
   "metadata": {},
   "outputs": [],
   "source": []
  }
 ],
 "metadata": {
  "interpreter": {
   "hash": "51476f6c1e7b55c6f4c750d1e079cb775eb97e6aabd5231bded5b7c36315272d"
  },
  "kernelspec": {
   "display_name": "Python 3",
   "language": "python",
   "name": "python3"
  },
  "language_info": {
   "codemirror_mode": {
    "name": "ipython",
    "version": 3
   },
   "file_extension": ".py",
   "mimetype": "text/x-python",
   "name": "python",
   "nbconvert_exporter": "python",
   "pygments_lexer": "ipython3",
   "version": "3.7.5"
  },
  "toc": {
   "base_numbering": 1,
   "nav_menu": {},
   "number_sections": true,
   "sideBar": true,
   "skip_h1_title": false,
   "title_cell": "Table of Contents",
   "title_sidebar": "Contents",
   "toc_cell": false,
   "toc_position": {},
   "toc_section_display": true,
   "toc_window_display": false
  }
 },
 "nbformat": 4,
 "nbformat_minor": 5
}
